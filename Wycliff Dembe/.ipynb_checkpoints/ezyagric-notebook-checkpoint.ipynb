{
 "cells": [
  {
   "cell_type": "code",
   "execution_count": 13,
   "metadata": {
    "_cell_guid": "b1076dfc-b9ad-4769-8c92-a6c4dae69d19",
    "_uuid": "8f2839f25d086af736a60e9eeb907d3b93b6e0e5",
    "execution": {
     "iopub.execute_input": "2022-02-08T10:30:33.599606Z",
     "iopub.status.busy": "2022-02-08T10:30:33.599328Z",
     "iopub.status.idle": "2022-02-08T10:30:33.604614Z",
     "shell.execute_reply": "2022-02-08T10:30:33.603661Z",
     "shell.execute_reply.started": "2022-02-08T10:30:33.599577Z"
    }
   },
   "outputs": [],
   "source": [
    "import numpy as np \n",
    "import pandas as pd "
   ]
  },
  {
   "cell_type": "code",
   "execution_count": 14,
   "metadata": {
    "execution": {
     "iopub.execute_input": "2022-02-08T10:30:33.671138Z",
     "iopub.status.busy": "2022-02-08T10:30:33.670855Z",
     "iopub.status.idle": "2022-02-08T10:30:33.680911Z",
     "shell.execute_reply": "2022-02-08T10:30:33.679762Z",
     "shell.execute_reply.started": "2022-02-08T10:30:33.671106Z"
    }
   },
   "outputs": [],
   "source": [
    "import os\n",
    "BASE_DIR = os.path.abspath('')\n",
    "filename = 'dataset.csv'\n",
    "df = pd.read_csv(BASE_DIR + '/' + filename)"
   ]
  },
  {
   "cell_type": "code",
   "execution_count": 15,
   "metadata": {
    "execution": {
     "iopub.execute_input": "2022-02-08T10:30:40.866481Z",
     "iopub.status.busy": "2022-02-08T10:30:40.866015Z",
     "iopub.status.idle": "2022-02-08T10:30:40.887487Z",
     "shell.execute_reply": "2022-02-08T10:30:40.886457Z",
     "shell.execute_reply.started": "2022-02-08T10:30:40.866443Z"
    }
   },
   "outputs": [
    {
     "data": {
      "text/html": [
       "<div>\n",
       "<style scoped>\n",
       "    .dataframe tbody tr th:only-of-type {\n",
       "        vertical-align: middle;\n",
       "    }\n",
       "\n",
       "    .dataframe tbody tr th {\n",
       "        vertical-align: top;\n",
       "    }\n",
       "\n",
       "    .dataframe thead th {\n",
       "        text-align: right;\n",
       "    }\n",
       "</style>\n",
       "<table border=\"1\" class=\"dataframe\">\n",
       "  <thead>\n",
       "    <tr style=\"text-align: right;\">\n",
       "      <th></th>\n",
       "      <th>id</th>\n",
       "      <th>latitudes/0</th>\n",
       "      <th>latitudes/1</th>\n",
       "      <th>latitudes/2</th>\n",
       "      <th>latitudes/3</th>\n",
       "      <th>longitudes/0</th>\n",
       "      <th>longitudes/1</th>\n",
       "      <th>longitudes/2</th>\n",
       "      <th>longitudes/3</th>\n",
       "      <th>latitudes/4</th>\n",
       "      <th>longitudes/4</th>\n",
       "      <th>Unnamed: 11</th>\n",
       "      <th>Unnamed: 12</th>\n",
       "      <th>Unnamed: 13</th>\n",
       "      <th>Unnamed: 14</th>\n",
       "      <th>Unnamed: 15</th>\n",
       "    </tr>\n",
       "  </thead>\n",
       "  <tbody>\n",
       "    <tr>\n",
       "      <th>0</th>\n",
       "      <td>1</td>\n",
       "      <td>2.980711</td>\n",
       "      <td>2.985953</td>\n",
       "      <td>2.980763</td>\n",
       "      <td>2.980530</td>\n",
       "      <td>32.531686</td>\n",
       "      <td>32.531705</td>\n",
       "      <td>32.531327</td>\n",
       "      <td>32.531240</td>\n",
       "      <td>2.980515</td>\n",
       "      <td>32.531657</td>\n",
       "      <td>NaN</td>\n",
       "      <td>NaN</td>\n",
       "      <td>NaN</td>\n",
       "      <td>NaN</td>\n",
       "      <td>NaN</td>\n",
       "    </tr>\n",
       "    <tr>\n",
       "      <th>1</th>\n",
       "      <td>2</td>\n",
       "      <td>2.965554</td>\n",
       "      <td>2.965177</td>\n",
       "      <td>2.965122</td>\n",
       "      <td>2.966003</td>\n",
       "      <td>32.249756</td>\n",
       "      <td>32.250017</td>\n",
       "      <td>32.250278</td>\n",
       "      <td>32.250418</td>\n",
       "      <td>2.965983</td>\n",
       "      <td>32.249870</td>\n",
       "      <td>NaN</td>\n",
       "      <td>NaN</td>\n",
       "      <td>NaN</td>\n",
       "      <td>NaN</td>\n",
       "      <td>s</td>\n",
       "    </tr>\n",
       "    <tr>\n",
       "      <th>2</th>\n",
       "      <td>3</td>\n",
       "      <td>2.961334</td>\n",
       "      <td>2.961092</td>\n",
       "      <td>2.961096</td>\n",
       "      <td>2.961162</td>\n",
       "      <td>32.240426</td>\n",
       "      <td>32.240401</td>\n",
       "      <td>32.240401</td>\n",
       "      <td>32.240312</td>\n",
       "      <td>2.960957</td>\n",
       "      <td>32.240535</td>\n",
       "      <td>NaN</td>\n",
       "      <td>NaN</td>\n",
       "      <td>NaN</td>\n",
       "      <td>NaN</td>\n",
       "      <td>NaN</td>\n",
       "    </tr>\n",
       "    <tr>\n",
       "      <th>3</th>\n",
       "      <td>4</td>\n",
       "      <td>2.961085</td>\n",
       "      <td>2.961193</td>\n",
       "      <td>2.960932</td>\n",
       "      <td>2.960932</td>\n",
       "      <td>32.240455</td>\n",
       "      <td>32.240537</td>\n",
       "      <td>32.240490</td>\n",
       "      <td>32.240490</td>\n",
       "      <td>2.961053</td>\n",
       "      <td>32.240440</td>\n",
       "      <td>NaN</td>\n",
       "      <td>NaN</td>\n",
       "      <td>NaN</td>\n",
       "      <td>NaN</td>\n",
       "      <td>NaN</td>\n",
       "    </tr>\n",
       "    <tr>\n",
       "      <th>4</th>\n",
       "      <td>5</td>\n",
       "      <td>2.960978</td>\n",
       "      <td>2.961101</td>\n",
       "      <td>2.961128</td>\n",
       "      <td>2.961035</td>\n",
       "      <td>32.240536</td>\n",
       "      <td>32.240386</td>\n",
       "      <td>32.240551</td>\n",
       "      <td>32.240573</td>\n",
       "      <td>2.960998</td>\n",
       "      <td>32.240462</td>\n",
       "      <td>NaN</td>\n",
       "      <td>NaN</td>\n",
       "      <td>NaN</td>\n",
       "      <td>NaN</td>\n",
       "      <td>NaN</td>\n",
       "    </tr>\n",
       "  </tbody>\n",
       "</table>\n",
       "</div>"
      ],
      "text/plain": [
       "   id  latitudes/0  latitudes/1  latitudes/2  latitudes/3  longitudes/0  \\\n",
       "0   1     2.980711     2.985953     2.980763     2.980530     32.531686   \n",
       "1   2     2.965554     2.965177     2.965122     2.966003     32.249756   \n",
       "2   3     2.961334     2.961092     2.961096     2.961162     32.240426   \n",
       "3   4     2.961085     2.961193     2.960932     2.960932     32.240455   \n",
       "4   5     2.960978     2.961101     2.961128     2.961035     32.240536   \n",
       "\n",
       "   longitudes/1  longitudes/2  longitudes/3  latitudes/4  longitudes/4  \\\n",
       "0     32.531705     32.531327     32.531240     2.980515     32.531657   \n",
       "1     32.250017     32.250278     32.250418     2.965983     32.249870   \n",
       "2     32.240401     32.240401     32.240312     2.960957     32.240535   \n",
       "3     32.240537     32.240490     32.240490     2.961053     32.240440   \n",
       "4     32.240386     32.240551     32.240573     2.960998     32.240462   \n",
       "\n",
       "   Unnamed: 11  Unnamed: 12  Unnamed: 13  Unnamed: 14 Unnamed: 15  \n",
       "0          NaN          NaN          NaN          NaN         NaN  \n",
       "1          NaN          NaN          NaN          NaN           s  \n",
       "2          NaN          NaN          NaN          NaN         NaN  \n",
       "3          NaN          NaN          NaN          NaN         NaN  \n",
       "4          NaN          NaN          NaN          NaN         NaN  "
      ]
     },
     "execution_count": 15,
     "metadata": {},
     "output_type": "execute_result"
    }
   ],
   "source": [
    "df.head()"
   ]
  },
  {
   "cell_type": "code",
   "execution_count": 16,
   "metadata": {
    "execution": {
     "iopub.execute_input": "2022-02-08T10:30:40.889566Z",
     "iopub.status.busy": "2022-02-08T10:30:40.889181Z",
     "iopub.status.idle": "2022-02-08T10:30:40.919580Z",
     "shell.execute_reply": "2022-02-08T10:30:40.918343Z",
     "shell.execute_reply.started": "2022-02-08T10:30:40.889518Z"
    }
   },
   "outputs": [
    {
     "data": {
      "text/html": [
       "<div>\n",
       "<style scoped>\n",
       "    .dataframe tbody tr th:only-of-type {\n",
       "        vertical-align: middle;\n",
       "    }\n",
       "\n",
       "    .dataframe tbody tr th {\n",
       "        vertical-align: top;\n",
       "    }\n",
       "\n",
       "    .dataframe thead th {\n",
       "        text-align: right;\n",
       "    }\n",
       "</style>\n",
       "<table border=\"1\" class=\"dataframe\">\n",
       "  <thead>\n",
       "    <tr style=\"text-align: right;\">\n",
       "      <th></th>\n",
       "      <th>garden_id</th>\n",
       "      <th>lat0</th>\n",
       "      <th>lat1</th>\n",
       "      <th>lat2</th>\n",
       "      <th>lat3</th>\n",
       "      <th>lon0</th>\n",
       "      <th>lon1</th>\n",
       "      <th>lon2</th>\n",
       "      <th>lon3</th>\n",
       "      <th>lat4</th>\n",
       "      <th>lon4</th>\n",
       "      <th>Unnamed: 11</th>\n",
       "      <th>Unnamed: 12</th>\n",
       "      <th>Unnamed: 13</th>\n",
       "      <th>Unnamed: 14</th>\n",
       "      <th>Unnamed: 15</th>\n",
       "    </tr>\n",
       "  </thead>\n",
       "  <tbody>\n",
       "    <tr>\n",
       "      <th>0</th>\n",
       "      <td>1</td>\n",
       "      <td>2.980711</td>\n",
       "      <td>2.985953</td>\n",
       "      <td>2.980763</td>\n",
       "      <td>2.980530</td>\n",
       "      <td>32.531686</td>\n",
       "      <td>32.531705</td>\n",
       "      <td>32.531327</td>\n",
       "      <td>32.531240</td>\n",
       "      <td>2.980515</td>\n",
       "      <td>32.531657</td>\n",
       "      <td>NaN</td>\n",
       "      <td>NaN</td>\n",
       "      <td>NaN</td>\n",
       "      <td>NaN</td>\n",
       "      <td>NaN</td>\n",
       "    </tr>\n",
       "    <tr>\n",
       "      <th>1</th>\n",
       "      <td>2</td>\n",
       "      <td>2.965554</td>\n",
       "      <td>2.965177</td>\n",
       "      <td>2.965122</td>\n",
       "      <td>2.966003</td>\n",
       "      <td>32.249756</td>\n",
       "      <td>32.250017</td>\n",
       "      <td>32.250278</td>\n",
       "      <td>32.250418</td>\n",
       "      <td>2.965983</td>\n",
       "      <td>32.249870</td>\n",
       "      <td>NaN</td>\n",
       "      <td>NaN</td>\n",
       "      <td>NaN</td>\n",
       "      <td>NaN</td>\n",
       "      <td>s</td>\n",
       "    </tr>\n",
       "    <tr>\n",
       "      <th>2</th>\n",
       "      <td>3</td>\n",
       "      <td>2.961334</td>\n",
       "      <td>2.961092</td>\n",
       "      <td>2.961096</td>\n",
       "      <td>2.961162</td>\n",
       "      <td>32.240426</td>\n",
       "      <td>32.240401</td>\n",
       "      <td>32.240401</td>\n",
       "      <td>32.240312</td>\n",
       "      <td>2.960957</td>\n",
       "      <td>32.240535</td>\n",
       "      <td>NaN</td>\n",
       "      <td>NaN</td>\n",
       "      <td>NaN</td>\n",
       "      <td>NaN</td>\n",
       "      <td>NaN</td>\n",
       "    </tr>\n",
       "    <tr>\n",
       "      <th>3</th>\n",
       "      <td>4</td>\n",
       "      <td>2.961085</td>\n",
       "      <td>2.961193</td>\n",
       "      <td>2.960932</td>\n",
       "      <td>2.960932</td>\n",
       "      <td>32.240455</td>\n",
       "      <td>32.240537</td>\n",
       "      <td>32.240490</td>\n",
       "      <td>32.240490</td>\n",
       "      <td>2.961053</td>\n",
       "      <td>32.240440</td>\n",
       "      <td>NaN</td>\n",
       "      <td>NaN</td>\n",
       "      <td>NaN</td>\n",
       "      <td>NaN</td>\n",
       "      <td>NaN</td>\n",
       "    </tr>\n",
       "    <tr>\n",
       "      <th>4</th>\n",
       "      <td>5</td>\n",
       "      <td>2.960978</td>\n",
       "      <td>2.961101</td>\n",
       "      <td>2.961128</td>\n",
       "      <td>2.961035</td>\n",
       "      <td>32.240536</td>\n",
       "      <td>32.240386</td>\n",
       "      <td>32.240551</td>\n",
       "      <td>32.240573</td>\n",
       "      <td>2.960998</td>\n",
       "      <td>32.240462</td>\n",
       "      <td>NaN</td>\n",
       "      <td>NaN</td>\n",
       "      <td>NaN</td>\n",
       "      <td>NaN</td>\n",
       "      <td>NaN</td>\n",
       "    </tr>\n",
       "  </tbody>\n",
       "</table>\n",
       "</div>"
      ],
      "text/plain": [
       "   garden_id      lat0      lat1      lat2      lat3       lon0       lon1  \\\n",
       "0          1  2.980711  2.985953  2.980763  2.980530  32.531686  32.531705   \n",
       "1          2  2.965554  2.965177  2.965122  2.966003  32.249756  32.250017   \n",
       "2          3  2.961334  2.961092  2.961096  2.961162  32.240426  32.240401   \n",
       "3          4  2.961085  2.961193  2.960932  2.960932  32.240455  32.240537   \n",
       "4          5  2.960978  2.961101  2.961128  2.961035  32.240536  32.240386   \n",
       "\n",
       "        lon2       lon3      lat4       lon4  Unnamed: 11  Unnamed: 12  \\\n",
       "0  32.531327  32.531240  2.980515  32.531657          NaN          NaN   \n",
       "1  32.250278  32.250418  2.965983  32.249870          NaN          NaN   \n",
       "2  32.240401  32.240312  2.960957  32.240535          NaN          NaN   \n",
       "3  32.240490  32.240490  2.961053  32.240440          NaN          NaN   \n",
       "4  32.240551  32.240573  2.960998  32.240462          NaN          NaN   \n",
       "\n",
       "   Unnamed: 13  Unnamed: 14 Unnamed: 15  \n",
       "0          NaN          NaN         NaN  \n",
       "1          NaN          NaN           s  \n",
       "2          NaN          NaN         NaN  \n",
       "3          NaN          NaN         NaN  \n",
       "4          NaN          NaN         NaN  "
      ]
     },
     "execution_count": 16,
     "metadata": {},
     "output_type": "execute_result"
    }
   ],
   "source": [
    "df = df.rename(columns={'id':'garden_id','latitudes/0':'lat0','latitudes/1':'lat1','latitudes/2':'lat2','latitudes/3':'lat3','latitudes/4':'lat4','longitudes/0':'lon0','longitudes/1':'lon1','longitudes/2':'lon2','longitudes/3':'lon3','longitudes/4':'lon4'})\n",
    "df.head()"
   ]
  },
  {
   "cell_type": "markdown",
   "metadata": {},
   "source": [
    "Handle missing data"
   ]
  },
  {
   "cell_type": "code",
   "execution_count": 17,
   "metadata": {
    "execution": {
     "iopub.execute_input": "2022-02-08T10:30:40.921973Z",
     "iopub.status.busy": "2022-02-08T10:30:40.921610Z",
     "iopub.status.idle": "2022-02-08T10:30:40.949605Z",
     "shell.execute_reply": "2022-02-08T10:30:40.948289Z",
     "shell.execute_reply.started": "2022-02-08T10:30:40.921928Z"
    }
   },
   "outputs": [
    {
     "data": {
      "text/html": [
       "<div>\n",
       "<style scoped>\n",
       "    .dataframe tbody tr th:only-of-type {\n",
       "        vertical-align: middle;\n",
       "    }\n",
       "\n",
       "    .dataframe tbody tr th {\n",
       "        vertical-align: top;\n",
       "    }\n",
       "\n",
       "    .dataframe thead th {\n",
       "        text-align: right;\n",
       "    }\n",
       "</style>\n",
       "<table border=\"1\" class=\"dataframe\">\n",
       "  <thead>\n",
       "    <tr style=\"text-align: right;\">\n",
       "      <th></th>\n",
       "      <th>garden_id</th>\n",
       "      <th>lat0</th>\n",
       "      <th>lat1</th>\n",
       "      <th>lat2</th>\n",
       "      <th>lat3</th>\n",
       "      <th>lon0</th>\n",
       "      <th>lon1</th>\n",
       "      <th>lon2</th>\n",
       "      <th>lon3</th>\n",
       "      <th>lat4</th>\n",
       "      <th>lon4</th>\n",
       "    </tr>\n",
       "  </thead>\n",
       "  <tbody>\n",
       "    <tr>\n",
       "      <th>0</th>\n",
       "      <td>1</td>\n",
       "      <td>2.980711</td>\n",
       "      <td>2.985953</td>\n",
       "      <td>2.980763</td>\n",
       "      <td>2.980530</td>\n",
       "      <td>32.531686</td>\n",
       "      <td>32.531705</td>\n",
       "      <td>32.531327</td>\n",
       "      <td>32.531240</td>\n",
       "      <td>2.980515</td>\n",
       "      <td>32.531657</td>\n",
       "    </tr>\n",
       "    <tr>\n",
       "      <th>1</th>\n",
       "      <td>2</td>\n",
       "      <td>2.965554</td>\n",
       "      <td>2.965177</td>\n",
       "      <td>2.965122</td>\n",
       "      <td>2.966003</td>\n",
       "      <td>32.249756</td>\n",
       "      <td>32.250017</td>\n",
       "      <td>32.250278</td>\n",
       "      <td>32.250418</td>\n",
       "      <td>2.965983</td>\n",
       "      <td>32.249870</td>\n",
       "    </tr>\n",
       "    <tr>\n",
       "      <th>2</th>\n",
       "      <td>3</td>\n",
       "      <td>2.961334</td>\n",
       "      <td>2.961092</td>\n",
       "      <td>2.961096</td>\n",
       "      <td>2.961162</td>\n",
       "      <td>32.240426</td>\n",
       "      <td>32.240401</td>\n",
       "      <td>32.240401</td>\n",
       "      <td>32.240312</td>\n",
       "      <td>2.960957</td>\n",
       "      <td>32.240535</td>\n",
       "    </tr>\n",
       "    <tr>\n",
       "      <th>3</th>\n",
       "      <td>4</td>\n",
       "      <td>2.961085</td>\n",
       "      <td>2.961193</td>\n",
       "      <td>2.960932</td>\n",
       "      <td>2.960932</td>\n",
       "      <td>32.240455</td>\n",
       "      <td>32.240537</td>\n",
       "      <td>32.240490</td>\n",
       "      <td>32.240490</td>\n",
       "      <td>2.961053</td>\n",
       "      <td>32.240440</td>\n",
       "    </tr>\n",
       "    <tr>\n",
       "      <th>4</th>\n",
       "      <td>5</td>\n",
       "      <td>2.960978</td>\n",
       "      <td>2.961101</td>\n",
       "      <td>2.961128</td>\n",
       "      <td>2.961035</td>\n",
       "      <td>32.240536</td>\n",
       "      <td>32.240386</td>\n",
       "      <td>32.240551</td>\n",
       "      <td>32.240573</td>\n",
       "      <td>2.960998</td>\n",
       "      <td>32.240462</td>\n",
       "    </tr>\n",
       "  </tbody>\n",
       "</table>\n",
       "</div>"
      ],
      "text/plain": [
       "   garden_id      lat0      lat1      lat2      lat3       lon0       lon1  \\\n",
       "0          1  2.980711  2.985953  2.980763  2.980530  32.531686  32.531705   \n",
       "1          2  2.965554  2.965177  2.965122  2.966003  32.249756  32.250017   \n",
       "2          3  2.961334  2.961092  2.961096  2.961162  32.240426  32.240401   \n",
       "3          4  2.961085  2.961193  2.960932  2.960932  32.240455  32.240537   \n",
       "4          5  2.960978  2.961101  2.961128  2.961035  32.240536  32.240386   \n",
       "\n",
       "        lon2       lon3      lat4       lon4  \n",
       "0  32.531327  32.531240  2.980515  32.531657  \n",
       "1  32.250278  32.250418  2.965983  32.249870  \n",
       "2  32.240401  32.240312  2.960957  32.240535  \n",
       "3  32.240490  32.240490  2.961053  32.240440  \n",
       "4  32.240551  32.240573  2.960998  32.240462  "
      ]
     },
     "execution_count": 17,
     "metadata": {},
     "output_type": "execute_result"
    }
   ],
   "source": [
    "df = df.dropna(axis=1)\n",
    "df.head()"
   ]
  },
  {
   "cell_type": "code",
   "execution_count": 18,
   "metadata": {
    "execution": {
     "iopub.execute_input": "2022-02-08T10:30:40.952007Z",
     "iopub.status.busy": "2022-02-08T10:30:40.951064Z",
     "iopub.status.idle": "2022-02-08T10:30:41.007789Z",
     "shell.execute_reply": "2022-02-08T10:30:41.006832Z",
     "shell.execute_reply.started": "2022-02-08T10:30:40.951961Z"
    }
   },
   "outputs": [
    {
     "data": {
      "text/html": [
       "<div>\n",
       "<style scoped>\n",
       "    .dataframe tbody tr th:only-of-type {\n",
       "        vertical-align: middle;\n",
       "    }\n",
       "\n",
       "    .dataframe tbody tr th {\n",
       "        vertical-align: top;\n",
       "    }\n",
       "\n",
       "    .dataframe thead th {\n",
       "        text-align: right;\n",
       "    }\n",
       "</style>\n",
       "<table border=\"1\" class=\"dataframe\">\n",
       "  <thead>\n",
       "    <tr style=\"text-align: right;\">\n",
       "      <th></th>\n",
       "      <th>garden_id</th>\n",
       "      <th>lat0</th>\n",
       "      <th>lat1</th>\n",
       "      <th>lat2</th>\n",
       "      <th>lat3</th>\n",
       "      <th>lon0</th>\n",
       "      <th>lon1</th>\n",
       "      <th>lon2</th>\n",
       "      <th>lon3</th>\n",
       "      <th>lat4</th>\n",
       "      <th>lon4</th>\n",
       "    </tr>\n",
       "  </thead>\n",
       "  <tbody>\n",
       "    <tr>\n",
       "      <th>count</th>\n",
       "      <td>5.000000</td>\n",
       "      <td>5.000000</td>\n",
       "      <td>5.000000</td>\n",
       "      <td>5.000000</td>\n",
       "      <td>5.000000</td>\n",
       "      <td>5.000000</td>\n",
       "      <td>5.000000</td>\n",
       "      <td>5.000000</td>\n",
       "      <td>5.000000</td>\n",
       "      <td>5.000000</td>\n",
       "      <td>5.000000</td>\n",
       "    </tr>\n",
       "    <tr>\n",
       "      <th>mean</th>\n",
       "      <td>3.000000</td>\n",
       "      <td>2.965932</td>\n",
       "      <td>2.966903</td>\n",
       "      <td>2.965808</td>\n",
       "      <td>2.965932</td>\n",
       "      <td>32.300572</td>\n",
       "      <td>32.300609</td>\n",
       "      <td>32.300609</td>\n",
       "      <td>32.300607</td>\n",
       "      <td>2.965901</td>\n",
       "      <td>32.300593</td>\n",
       "    </tr>\n",
       "    <tr>\n",
       "      <th>std</th>\n",
       "      <td>1.581139</td>\n",
       "      <td>0.008482</td>\n",
       "      <td>0.010792</td>\n",
       "      <td>0.008544</td>\n",
       "      <td>0.008439</td>\n",
       "      <td>0.129259</td>\n",
       "      <td>0.129253</td>\n",
       "      <td>0.129045</td>\n",
       "      <td>0.129000</td>\n",
       "      <td>0.008449</td>\n",
       "      <td>0.129233</td>\n",
       "    </tr>\n",
       "    <tr>\n",
       "      <th>min</th>\n",
       "      <td>1.000000</td>\n",
       "      <td>2.960978</td>\n",
       "      <td>2.961092</td>\n",
       "      <td>2.960932</td>\n",
       "      <td>2.960932</td>\n",
       "      <td>32.240426</td>\n",
       "      <td>32.240386</td>\n",
       "      <td>32.240401</td>\n",
       "      <td>32.240312</td>\n",
       "      <td>2.960957</td>\n",
       "      <td>32.240440</td>\n",
       "    </tr>\n",
       "    <tr>\n",
       "      <th>25%</th>\n",
       "      <td>2.000000</td>\n",
       "      <td>2.961085</td>\n",
       "      <td>2.961101</td>\n",
       "      <td>2.961096</td>\n",
       "      <td>2.961035</td>\n",
       "      <td>32.240455</td>\n",
       "      <td>32.240401</td>\n",
       "      <td>32.240490</td>\n",
       "      <td>32.240490</td>\n",
       "      <td>2.960998</td>\n",
       "      <td>32.240462</td>\n",
       "    </tr>\n",
       "    <tr>\n",
       "      <th>50%</th>\n",
       "      <td>3.000000</td>\n",
       "      <td>2.961334</td>\n",
       "      <td>2.961193</td>\n",
       "      <td>2.961128</td>\n",
       "      <td>2.961162</td>\n",
       "      <td>32.240536</td>\n",
       "      <td>32.240537</td>\n",
       "      <td>32.240551</td>\n",
       "      <td>32.240573</td>\n",
       "      <td>2.961053</td>\n",
       "      <td>32.240535</td>\n",
       "    </tr>\n",
       "    <tr>\n",
       "      <th>75%</th>\n",
       "      <td>4.000000</td>\n",
       "      <td>2.965554</td>\n",
       "      <td>2.965177</td>\n",
       "      <td>2.965122</td>\n",
       "      <td>2.966003</td>\n",
       "      <td>32.249756</td>\n",
       "      <td>32.250017</td>\n",
       "      <td>32.250278</td>\n",
       "      <td>32.250418</td>\n",
       "      <td>2.965983</td>\n",
       "      <td>32.249870</td>\n",
       "    </tr>\n",
       "    <tr>\n",
       "      <th>max</th>\n",
       "      <td>5.000000</td>\n",
       "      <td>2.980711</td>\n",
       "      <td>2.985953</td>\n",
       "      <td>2.980763</td>\n",
       "      <td>2.980530</td>\n",
       "      <td>32.531686</td>\n",
       "      <td>32.531705</td>\n",
       "      <td>32.531327</td>\n",
       "      <td>32.531240</td>\n",
       "      <td>2.980515</td>\n",
       "      <td>32.531657</td>\n",
       "    </tr>\n",
       "  </tbody>\n",
       "</table>\n",
       "</div>"
      ],
      "text/plain": [
       "       garden_id      lat0      lat1      lat2      lat3       lon0  \\\n",
       "count   5.000000  5.000000  5.000000  5.000000  5.000000   5.000000   \n",
       "mean    3.000000  2.965932  2.966903  2.965808  2.965932  32.300572   \n",
       "std     1.581139  0.008482  0.010792  0.008544  0.008439   0.129259   \n",
       "min     1.000000  2.960978  2.961092  2.960932  2.960932  32.240426   \n",
       "25%     2.000000  2.961085  2.961101  2.961096  2.961035  32.240455   \n",
       "50%     3.000000  2.961334  2.961193  2.961128  2.961162  32.240536   \n",
       "75%     4.000000  2.965554  2.965177  2.965122  2.966003  32.249756   \n",
       "max     5.000000  2.980711  2.985953  2.980763  2.980530  32.531686   \n",
       "\n",
       "            lon1       lon2       lon3      lat4       lon4  \n",
       "count   5.000000   5.000000   5.000000  5.000000   5.000000  \n",
       "mean   32.300609  32.300609  32.300607  2.965901  32.300593  \n",
       "std     0.129253   0.129045   0.129000  0.008449   0.129233  \n",
       "min    32.240386  32.240401  32.240312  2.960957  32.240440  \n",
       "25%    32.240401  32.240490  32.240490  2.960998  32.240462  \n",
       "50%    32.240537  32.240551  32.240573  2.961053  32.240535  \n",
       "75%    32.250017  32.250278  32.250418  2.965983  32.249870  \n",
       "max    32.531705  32.531327  32.531240  2.980515  32.531657  "
      ]
     },
     "execution_count": 18,
     "metadata": {},
     "output_type": "execute_result"
    }
   ],
   "source": [
    "df.describe()"
   ]
  },
  {
   "cell_type": "code",
   "execution_count": 19,
   "metadata": {
    "execution": {
     "iopub.execute_input": "2022-02-08T10:30:41.012589Z",
     "iopub.status.busy": "2022-02-08T10:30:41.011499Z",
     "iopub.status.idle": "2022-02-08T10:30:41.023379Z",
     "shell.execute_reply": "2022-02-08T10:30:41.020339Z",
     "shell.execute_reply.started": "2022-02-08T10:30:41.012484Z"
    }
   },
   "outputs": [
    {
     "data": {
      "text/plain": [
       "5"
      ]
     },
     "execution_count": 19,
     "metadata": {},
     "output_type": "execute_result"
    }
   ],
   "source": [
    "num_gardens = len(df)\n",
    "num_gardens"
   ]
  },
  {
   "cell_type": "code",
   "execution_count": 20,
   "metadata": {
    "execution": {
     "iopub.execute_input": "2022-02-08T10:30:41.026863Z",
     "iopub.status.busy": "2022-02-08T10:30:41.025554Z",
     "iopub.status.idle": "2022-02-08T10:30:41.063169Z",
     "shell.execute_reply": "2022-02-08T10:30:41.062093Z",
     "shell.execute_reply.started": "2022-02-08T10:30:41.026791Z"
    }
   },
   "outputs": [
    {
     "data": {
      "text/plain": [
       "{'garden1':    garden_id      lat0      lat1      lat2     lat3       lon0       lon1  \\\n",
       " 0          1  2.980711  2.985953  2.980763  2.98053  32.531686  32.531705   \n",
       " \n",
       "         lon2      lon3      lat4       lon4  \n",
       " 0  32.531327  32.53124  2.980515  32.531657  ,\n",
       " 'garden2':    garden_id      lat0      lat1      lat2      lat3       lon0       lon1  \\\n",
       " 1          2  2.965554  2.965177  2.965122  2.966003  32.249756  32.250017   \n",
       " \n",
       "         lon2       lon3      lat4      lon4  \n",
       " 1  32.250278  32.250418  2.965983  32.24987  ,\n",
       " 'garden3':    garden_id      lat0      lat1      lat2      lat3       lon0       lon1  \\\n",
       " 2          3  2.961334  2.961092  2.961096  2.961162  32.240426  32.240401   \n",
       " \n",
       "         lon2       lon3      lat4       lon4  \n",
       " 2  32.240401  32.240312  2.960957  32.240535  ,\n",
       " 'garden4':    garden_id      lat0      lat1      lat2      lat3       lon0       lon1  \\\n",
       " 3          4  2.961085  2.961193  2.960932  2.960932  32.240455  32.240537   \n",
       " \n",
       "        lon2      lon3      lat4      lon4  \n",
       " 3  32.24049  32.24049  2.961053  32.24044  ,\n",
       " 'garden5':    garden_id      lat0      lat1      lat2      lat3       lon0       lon1  \\\n",
       " 4          5  2.960978  2.961101  2.961128  2.961035  32.240536  32.240386   \n",
       " \n",
       "         lon2       lon3      lat4       lon4  \n",
       " 4  32.240551  32.240573  2.960998  32.240462  }"
      ]
     },
     "execution_count": 20,
     "metadata": {},
     "output_type": "execute_result"
    }
   ],
   "source": [
    "def get_gardens_dict(df):\n",
    "    dict = {}\n",
    "    for id in range(1,num_gardens+1):\n",
    "        dfx = df[df[\"garden_id\"]==id]\n",
    "        garden = 'garden{}'.format(id)\n",
    "        dict[garden] = dfx\n",
    "    return dict\n",
    "\n",
    "gardens_dict = get_gardens_dict(df)\n",
    "gardens_dict"
   ]
  },
  {
   "cell_type": "code",
   "execution_count": 21,
   "metadata": {
    "execution": {
     "iopub.execute_input": "2022-02-08T10:30:41.065125Z",
     "iopub.status.busy": "2022-02-08T10:30:41.064581Z",
     "iopub.status.idle": "2022-02-08T10:30:41.085542Z",
     "shell.execute_reply": "2022-02-08T10:30:41.084879Z",
     "shell.execute_reply.started": "2022-02-08T10:30:41.065073Z"
    }
   },
   "outputs": [
    {
     "data": {
      "text/html": [
       "<div style=\"width:100%;\"><div style=\"position:relative;width:100%;height:0;padding-bottom:60%;\"><span style=\"color:#565656\">Make this Notebook Trusted to load map: File -> Trust Notebook</span><iframe src=\"about:blank\" style=\"position:absolute;width:100%;height:100%;left:0;top:0;border:none !important;\" data-html=%3C%21DOCTYPE%20html%3E%0A%3Chead%3E%20%20%20%20%0A%20%20%20%20%3Cmeta%20http-equiv%3D%22content-type%22%20content%3D%22text/html%3B%20charset%3DUTF-8%22%20/%3E%0A%20%20%20%20%0A%20%20%20%20%20%20%20%20%3Cscript%3E%0A%20%20%20%20%20%20%20%20%20%20%20%20L_NO_TOUCH%20%3D%20false%3B%0A%20%20%20%20%20%20%20%20%20%20%20%20L_DISABLE_3D%20%3D%20false%3B%0A%20%20%20%20%20%20%20%20%3C/script%3E%0A%20%20%20%20%0A%20%20%20%20%3Cstyle%3Ehtml%2C%20body%20%7Bwidth%3A%20100%25%3Bheight%3A%20100%25%3Bmargin%3A%200%3Bpadding%3A%200%3B%7D%3C/style%3E%0A%20%20%20%20%3Cstyle%3E%23map%20%7Bposition%3Aabsolute%3Btop%3A0%3Bbottom%3A0%3Bright%3A0%3Bleft%3A0%3B%7D%3C/style%3E%0A%20%20%20%20%3Cscript%20src%3D%22https%3A//cdn.jsdelivr.net/npm/leaflet%401.6.0/dist/leaflet.js%22%3E%3C/script%3E%0A%20%20%20%20%3Cscript%20src%3D%22https%3A//code.jquery.com/jquery-1.12.4.min.js%22%3E%3C/script%3E%0A%20%20%20%20%3Cscript%20src%3D%22https%3A//maxcdn.bootstrapcdn.com/bootstrap/3.2.0/js/bootstrap.min.js%22%3E%3C/script%3E%0A%20%20%20%20%3Cscript%20src%3D%22https%3A//cdnjs.cloudflare.com/ajax/libs/Leaflet.awesome-markers/2.0.2/leaflet.awesome-markers.js%22%3E%3C/script%3E%0A%20%20%20%20%3Clink%20rel%3D%22stylesheet%22%20href%3D%22https%3A//cdn.jsdelivr.net/npm/leaflet%401.6.0/dist/leaflet.css%22/%3E%0A%20%20%20%20%3Clink%20rel%3D%22stylesheet%22%20href%3D%22https%3A//maxcdn.bootstrapcdn.com/bootstrap/3.2.0/css/bootstrap.min.css%22/%3E%0A%20%20%20%20%3Clink%20rel%3D%22stylesheet%22%20href%3D%22https%3A//maxcdn.bootstrapcdn.com/bootstrap/3.2.0/css/bootstrap-theme.min.css%22/%3E%0A%20%20%20%20%3Clink%20rel%3D%22stylesheet%22%20href%3D%22https%3A//maxcdn.bootstrapcdn.com/font-awesome/4.6.3/css/font-awesome.min.css%22/%3E%0A%20%20%20%20%3Clink%20rel%3D%22stylesheet%22%20href%3D%22https%3A//cdnjs.cloudflare.com/ajax/libs/Leaflet.awesome-markers/2.0.2/leaflet.awesome-markers.css%22/%3E%0A%20%20%20%20%3Clink%20rel%3D%22stylesheet%22%20href%3D%22https%3A//cdn.jsdelivr.net/gh/python-visualization/folium/folium/templates/leaflet.awesome.rotate.min.css%22/%3E%0A%20%20%20%20%0A%20%20%20%20%20%20%20%20%20%20%20%20%3Cmeta%20name%3D%22viewport%22%20content%3D%22width%3Ddevice-width%2C%0A%20%20%20%20%20%20%20%20%20%20%20%20%20%20%20%20initial-scale%3D1.0%2C%20maximum-scale%3D1.0%2C%20user-scalable%3Dno%22%20/%3E%0A%20%20%20%20%20%20%20%20%20%20%20%20%3Cstyle%3E%0A%20%20%20%20%20%20%20%20%20%20%20%20%20%20%20%20%23map_370b20d9c491412e8616115e477c1b52%20%7B%0A%20%20%20%20%20%20%20%20%20%20%20%20%20%20%20%20%20%20%20%20position%3A%20relative%3B%0A%20%20%20%20%20%20%20%20%20%20%20%20%20%20%20%20%20%20%20%20width%3A%20100.0%25%3B%0A%20%20%20%20%20%20%20%20%20%20%20%20%20%20%20%20%20%20%20%20height%3A%20100.0%25%3B%0A%20%20%20%20%20%20%20%20%20%20%20%20%20%20%20%20%20%20%20%20left%3A%200.0%25%3B%0A%20%20%20%20%20%20%20%20%20%20%20%20%20%20%20%20%20%20%20%20top%3A%200.0%25%3B%0A%20%20%20%20%20%20%20%20%20%20%20%20%20%20%20%20%7D%0A%20%20%20%20%20%20%20%20%20%20%20%20%3C/style%3E%0A%20%20%20%20%20%20%20%20%0A%3C/head%3E%0A%3Cbody%3E%20%20%20%20%0A%20%20%20%20%0A%20%20%20%20%20%20%20%20%20%20%20%20%3Cdiv%20class%3D%22folium-map%22%20id%3D%22map_370b20d9c491412e8616115e477c1b52%22%20%3E%3C/div%3E%0A%20%20%20%20%20%20%20%20%0A%3C/body%3E%0A%3Cscript%3E%20%20%20%20%0A%20%20%20%20%0A%20%20%20%20%20%20%20%20%20%20%20%20var%20map_370b20d9c491412e8616115e477c1b52%20%3D%20L.map%28%0A%20%20%20%20%20%20%20%20%20%20%20%20%20%20%20%20%22map_370b20d9c491412e8616115e477c1b52%22%2C%0A%20%20%20%20%20%20%20%20%20%20%20%20%20%20%20%20%7B%0A%20%20%20%20%20%20%20%20%20%20%20%20%20%20%20%20%20%20%20%20center%3A%20%5B0%2C%200%5D%2C%0A%20%20%20%20%20%20%20%20%20%20%20%20%20%20%20%20%20%20%20%20crs%3A%20L.CRS.EPSG3857%2C%0A%20%20%20%20%20%20%20%20%20%20%20%20%20%20%20%20%20%20%20%20zoom%3A%201%2C%0A%20%20%20%20%20%20%20%20%20%20%20%20%20%20%20%20%20%20%20%20zoomControl%3A%20true%2C%0A%20%20%20%20%20%20%20%20%20%20%20%20%20%20%20%20%20%20%20%20preferCanvas%3A%20false%2C%0A%20%20%20%20%20%20%20%20%20%20%20%20%20%20%20%20%7D%0A%20%20%20%20%20%20%20%20%20%20%20%20%29%3B%0A%0A%20%20%20%20%20%20%20%20%20%20%20%20%0A%0A%20%20%20%20%20%20%20%20%0A%20%20%20%20%0A%20%20%20%20%20%20%20%20%20%20%20%20var%20tile_layer_73871f00edb847b6af8b75e12b5a0ba2%20%3D%20L.tileLayer%28%0A%20%20%20%20%20%20%20%20%20%20%20%20%20%20%20%20%22https%3A//%7Bs%7D.tile.openstreetmap.org/%7Bz%7D/%7Bx%7D/%7By%7D.png%22%2C%0A%20%20%20%20%20%20%20%20%20%20%20%20%20%20%20%20%7B%22attribution%22%3A%20%22Data%20by%20%5Cu0026copy%3B%20%5Cu003ca%20href%3D%5C%22http%3A//openstreetmap.org%5C%22%5Cu003eOpenStreetMap%5Cu003c/a%5Cu003e%2C%20under%20%5Cu003ca%20href%3D%5C%22http%3A//www.openstreetmap.org/copyright%5C%22%5Cu003eODbL%5Cu003c/a%5Cu003e.%22%2C%20%22detectRetina%22%3A%20false%2C%20%22maxNativeZoom%22%3A%2018%2C%20%22maxZoom%22%3A%2018%2C%20%22minZoom%22%3A%200%2C%20%22noWrap%22%3A%20false%2C%20%22opacity%22%3A%201%2C%20%22subdomains%22%3A%20%22abc%22%2C%20%22tms%22%3A%20false%7D%0A%20%20%20%20%20%20%20%20%20%20%20%20%29.addTo%28map_370b20d9c491412e8616115e477c1b52%29%3B%0A%20%20%20%20%20%20%20%20%0A%3C/script%3E onload=\"this.contentDocument.open();this.contentDocument.write(    decodeURIComponent(this.getAttribute('data-html')));this.contentDocument.close();\" allowfullscreen webkitallowfullscreen mozallowfullscreen></iframe></div></div>"
      ],
      "text/plain": [
       "<folium.folium.Map at 0x1a5b0da1dc0>"
      ]
     },
     "execution_count": 21,
     "metadata": {},
     "output_type": "execute_result"
    }
   ],
   "source": [
    "import folium\n",
    "world_map = folium.Map()\n",
    "world_map"
   ]
  },
  {
   "cell_type": "code",
   "execution_count": 22,
   "metadata": {
    "execution": {
     "iopub.execute_input": "2022-02-08T10:30:41.087746Z",
     "iopub.status.busy": "2022-02-08T10:30:41.086964Z",
     "iopub.status.idle": "2022-02-08T10:30:41.091678Z",
     "shell.execute_reply": "2022-02-08T10:30:41.090809Z",
     "shell.execute_reply.started": "2022-02-08T10:30:41.087704Z"
    }
   },
   "outputs": [],
   "source": [
    "# Base location - start from around Uganda northern region\n",
    "base_lat = 2.7971979997030787\n",
    "base_lon = 32.2643949"
   ]
  },
  {
   "cell_type": "code",
   "execution_count": 23,
   "metadata": {
    "execution": {
     "iopub.execute_input": "2022-02-08T10:30:41.093325Z",
     "iopub.status.busy": "2022-02-08T10:30:41.093030Z",
     "iopub.status.idle": "2022-02-08T10:30:41.131006Z",
     "shell.execute_reply": "2022-02-08T10:30:41.130388Z",
     "shell.execute_reply.started": "2022-02-08T10:30:41.093283Z"
    }
   },
   "outputs": [
    {
     "name": "stdout",
     "output_type": "stream",
     "text": [
      "garden1\n",
      "garden2\n",
      "garden3\n",
      "garden4\n",
      "garden5\n"
     ]
    },
    {
     "data": {
      "text/html": [
       "<div style=\"width:100%;\"><div style=\"position:relative;width:100%;height:0;padding-bottom:60%;\"><span style=\"color:#565656\">Make this Notebook Trusted to load map: File -> Trust Notebook</span><iframe src=\"about:blank\" style=\"position:absolute;width:100%;height:100%;left:0;top:0;border:none !important;\" data-html=%3C%21DOCTYPE%20html%3E%0A%3Chead%3E%20%20%20%20%0A%20%20%20%20%3Cmeta%20http-equiv%3D%22content-type%22%20content%3D%22text/html%3B%20charset%3DUTF-8%22%20/%3E%0A%20%20%20%20%0A%20%20%20%20%20%20%20%20%3Cscript%3E%0A%20%20%20%20%20%20%20%20%20%20%20%20L_NO_TOUCH%20%3D%20false%3B%0A%20%20%20%20%20%20%20%20%20%20%20%20L_DISABLE_3D%20%3D%20false%3B%0A%20%20%20%20%20%20%20%20%3C/script%3E%0A%20%20%20%20%0A%20%20%20%20%3Cstyle%3Ehtml%2C%20body%20%7Bwidth%3A%20100%25%3Bheight%3A%20100%25%3Bmargin%3A%200%3Bpadding%3A%200%3B%7D%3C/style%3E%0A%20%20%20%20%3Cstyle%3E%23map%20%7Bposition%3Aabsolute%3Btop%3A0%3Bbottom%3A0%3Bright%3A0%3Bleft%3A0%3B%7D%3C/style%3E%0A%20%20%20%20%3Cscript%20src%3D%22https%3A//cdn.jsdelivr.net/npm/leaflet%401.6.0/dist/leaflet.js%22%3E%3C/script%3E%0A%20%20%20%20%3Cscript%20src%3D%22https%3A//code.jquery.com/jquery-1.12.4.min.js%22%3E%3C/script%3E%0A%20%20%20%20%3Cscript%20src%3D%22https%3A//maxcdn.bootstrapcdn.com/bootstrap/3.2.0/js/bootstrap.min.js%22%3E%3C/script%3E%0A%20%20%20%20%3Cscript%20src%3D%22https%3A//cdnjs.cloudflare.com/ajax/libs/Leaflet.awesome-markers/2.0.2/leaflet.awesome-markers.js%22%3E%3C/script%3E%0A%20%20%20%20%3Clink%20rel%3D%22stylesheet%22%20href%3D%22https%3A//cdn.jsdelivr.net/npm/leaflet%401.6.0/dist/leaflet.css%22/%3E%0A%20%20%20%20%3Clink%20rel%3D%22stylesheet%22%20href%3D%22https%3A//maxcdn.bootstrapcdn.com/bootstrap/3.2.0/css/bootstrap.min.css%22/%3E%0A%20%20%20%20%3Clink%20rel%3D%22stylesheet%22%20href%3D%22https%3A//maxcdn.bootstrapcdn.com/bootstrap/3.2.0/css/bootstrap-theme.min.css%22/%3E%0A%20%20%20%20%3Clink%20rel%3D%22stylesheet%22%20href%3D%22https%3A//maxcdn.bootstrapcdn.com/font-awesome/4.6.3/css/font-awesome.min.css%22/%3E%0A%20%20%20%20%3Clink%20rel%3D%22stylesheet%22%20href%3D%22https%3A//cdnjs.cloudflare.com/ajax/libs/Leaflet.awesome-markers/2.0.2/leaflet.awesome-markers.css%22/%3E%0A%20%20%20%20%3Clink%20rel%3D%22stylesheet%22%20href%3D%22https%3A//cdn.jsdelivr.net/gh/python-visualization/folium/folium/templates/leaflet.awesome.rotate.min.css%22/%3E%0A%20%20%20%20%0A%20%20%20%20%20%20%20%20%20%20%20%20%3Cmeta%20name%3D%22viewport%22%20content%3D%22width%3Ddevice-width%2C%0A%20%20%20%20%20%20%20%20%20%20%20%20%20%20%20%20initial-scale%3D1.0%2C%20maximum-scale%3D1.0%2C%20user-scalable%3Dno%22%20/%3E%0A%20%20%20%20%20%20%20%20%20%20%20%20%3Cstyle%3E%0A%20%20%20%20%20%20%20%20%20%20%20%20%20%20%20%20%23map_9897b96940584863b6b14355defc09c6%20%7B%0A%20%20%20%20%20%20%20%20%20%20%20%20%20%20%20%20%20%20%20%20position%3A%20relative%3B%0A%20%20%20%20%20%20%20%20%20%20%20%20%20%20%20%20%20%20%20%20width%3A%20100.0%25%3B%0A%20%20%20%20%20%20%20%20%20%20%20%20%20%20%20%20%20%20%20%20height%3A%20100.0%25%3B%0A%20%20%20%20%20%20%20%20%20%20%20%20%20%20%20%20%20%20%20%20left%3A%200.0%25%3B%0A%20%20%20%20%20%20%20%20%20%20%20%20%20%20%20%20%20%20%20%20top%3A%200.0%25%3B%0A%20%20%20%20%20%20%20%20%20%20%20%20%20%20%20%20%7D%0A%20%20%20%20%20%20%20%20%20%20%20%20%3C/style%3E%0A%20%20%20%20%20%20%20%20%0A%3C/head%3E%0A%3Cbody%3E%20%20%20%20%0A%20%20%20%20%0A%20%20%20%20%20%20%20%20%20%20%20%20%3Cdiv%20class%3D%22folium-map%22%20id%3D%22map_9897b96940584863b6b14355defc09c6%22%20%3E%3C/div%3E%0A%20%20%20%20%20%20%20%20%0A%3C/body%3E%0A%3Cscript%3E%20%20%20%20%0A%20%20%20%20%0A%20%20%20%20%20%20%20%20%20%20%20%20var%20map_9897b96940584863b6b14355defc09c6%20%3D%20L.map%28%0A%20%20%20%20%20%20%20%20%20%20%20%20%20%20%20%20%22map_9897b96940584863b6b14355defc09c6%22%2C%0A%20%20%20%20%20%20%20%20%20%20%20%20%20%20%20%20%7B%0A%20%20%20%20%20%20%20%20%20%20%20%20%20%20%20%20%20%20%20%20center%3A%20%5B2.7971979997030787%2C%2032.2643949%5D%2C%0A%20%20%20%20%20%20%20%20%20%20%20%20%20%20%20%20%20%20%20%20crs%3A%20L.CRS.EPSG3857%2C%0A%20%20%20%20%20%20%20%20%20%20%20%20%20%20%20%20%20%20%20%20zoom%3A%207%2C%0A%20%20%20%20%20%20%20%20%20%20%20%20%20%20%20%20%20%20%20%20zoomControl%3A%20true%2C%0A%20%20%20%20%20%20%20%20%20%20%20%20%20%20%20%20%20%20%20%20preferCanvas%3A%20false%2C%0A%20%20%20%20%20%20%20%20%20%20%20%20%20%20%20%20%7D%0A%20%20%20%20%20%20%20%20%20%20%20%20%29%3B%0A%0A%20%20%20%20%20%20%20%20%20%20%20%20%0A%0A%20%20%20%20%20%20%20%20%0A%20%20%20%20%0A%20%20%20%20%20%20%20%20%20%20%20%20var%20tile_layer_2848eb7f013a496c97f2c9d696a23b62%20%3D%20L.tileLayer%28%0A%20%20%20%20%20%20%20%20%20%20%20%20%20%20%20%20%22https%3A//%7Bs%7D.tile.openstreetmap.org/%7Bz%7D/%7Bx%7D/%7By%7D.png%22%2C%0A%20%20%20%20%20%20%20%20%20%20%20%20%20%20%20%20%7B%22attribution%22%3A%20%22Data%20by%20%5Cu0026copy%3B%20%5Cu003ca%20href%3D%5C%22http%3A//openstreetmap.org%5C%22%5Cu003eOpenStreetMap%5Cu003c/a%5Cu003e%2C%20under%20%5Cu003ca%20href%3D%5C%22http%3A//www.openstreetmap.org/copyright%5C%22%5Cu003eODbL%5Cu003c/a%5Cu003e.%22%2C%20%22detectRetina%22%3A%20false%2C%20%22maxNativeZoom%22%3A%2018%2C%20%22maxZoom%22%3A%2018%2C%20%22minZoom%22%3A%200%2C%20%22noWrap%22%3A%20false%2C%20%22opacity%22%3A%201%2C%20%22subdomains%22%3A%20%22abc%22%2C%20%22tms%22%3A%20false%7D%0A%20%20%20%20%20%20%20%20%20%20%20%20%29.addTo%28map_9897b96940584863b6b14355defc09c6%29%3B%0A%20%20%20%20%20%20%20%20%0A%20%20%20%20%0A%20%20%20%20%20%20%20%20%20%20%20%20var%20marker_20904daa6ca6410aa60a11c77060e44d%20%3D%20L.marker%28%0A%20%20%20%20%20%20%20%20%20%20%20%20%20%20%20%20%5B2.98595307%2C%2032.53170496%5D%2C%0A%20%20%20%20%20%20%20%20%20%20%20%20%20%20%20%20%7B%7D%0A%20%20%20%20%20%20%20%20%20%20%20%20%29.addTo%28map_9897b96940584863b6b14355defc09c6%29%3B%0A%20%20%20%20%20%20%20%20%0A%20%20%20%20%0A%20%20%20%20%20%20%20%20var%20popup_5a6ae0e054bc4b03a476a972f20875d8%20%3D%20L.popup%28%7B%22maxWidth%22%3A%20%22100%25%22%7D%29%3B%0A%0A%20%20%20%20%20%20%20%20%0A%20%20%20%20%20%20%20%20%20%20%20%20var%20html_aea92ea358d542f1ae6d5a276f43a344%20%3D%20%24%28%60%3Cdiv%20id%3D%22html_aea92ea358d542f1ae6d5a276f43a344%22%20style%3D%22width%3A%20100.0%25%3B%20height%3A%20100.0%25%3B%22%3Egarden1%3C/div%3E%60%29%5B0%5D%3B%0A%20%20%20%20%20%20%20%20%20%20%20%20popup_5a6ae0e054bc4b03a476a972f20875d8.setContent%28html_aea92ea358d542f1ae6d5a276f43a344%29%3B%0A%20%20%20%20%20%20%20%20%0A%0A%20%20%20%20%20%20%20%20marker_20904daa6ca6410aa60a11c77060e44d.bindPopup%28popup_5a6ae0e054bc4b03a476a972f20875d8%29%0A%20%20%20%20%20%20%20%20%3B%0A%0A%20%20%20%20%20%20%20%20%0A%20%20%20%20%0A%20%20%20%20%0A%20%20%20%20%20%20%20%20%20%20%20%20var%20marker_3a836b2a06a74d1d99b89c58e9a14ea3%20%3D%20L.marker%28%0A%20%20%20%20%20%20%20%20%20%20%20%20%20%20%20%20%5B2.965177167%2C%2032.25001674%5D%2C%0A%20%20%20%20%20%20%20%20%20%20%20%20%20%20%20%20%7B%7D%0A%20%20%20%20%20%20%20%20%20%20%20%20%29.addTo%28map_9897b96940584863b6b14355defc09c6%29%3B%0A%20%20%20%20%20%20%20%20%0A%20%20%20%20%0A%20%20%20%20%20%20%20%20var%20popup_2f93669030674042a243edfa0147bf77%20%3D%20L.popup%28%7B%22maxWidth%22%3A%20%22100%25%22%7D%29%3B%0A%0A%20%20%20%20%20%20%20%20%0A%20%20%20%20%20%20%20%20%20%20%20%20var%20html_d0fd0db63e5e42a3be70134c4d1036df%20%3D%20%24%28%60%3Cdiv%20id%3D%22html_d0fd0db63e5e42a3be70134c4d1036df%22%20style%3D%22width%3A%20100.0%25%3B%20height%3A%20100.0%25%3B%22%3Egarden2%3C/div%3E%60%29%5B0%5D%3B%0A%20%20%20%20%20%20%20%20%20%20%20%20popup_2f93669030674042a243edfa0147bf77.setContent%28html_d0fd0db63e5e42a3be70134c4d1036df%29%3B%0A%20%20%20%20%20%20%20%20%0A%0A%20%20%20%20%20%20%20%20marker_3a836b2a06a74d1d99b89c58e9a14ea3.bindPopup%28popup_2f93669030674042a243edfa0147bf77%29%0A%20%20%20%20%20%20%20%20%3B%0A%0A%20%20%20%20%20%20%20%20%0A%20%20%20%20%0A%20%20%20%20%0A%20%20%20%20%20%20%20%20%20%20%20%20var%20marker_5ce20756404b4ed4aec015b1251d51ad%20%3D%20L.marker%28%0A%20%20%20%20%20%20%20%20%20%20%20%20%20%20%20%20%5B2.961092313%2C%2032.24040081%5D%2C%0A%20%20%20%20%20%20%20%20%20%20%20%20%20%20%20%20%7B%7D%0A%20%20%20%20%20%20%20%20%20%20%20%20%29.addTo%28map_9897b96940584863b6b14355defc09c6%29%3B%0A%20%20%20%20%20%20%20%20%0A%20%20%20%20%0A%20%20%20%20%20%20%20%20var%20popup_0ff43f184ee64d4e92bcdf3b6a080d58%20%3D%20L.popup%28%7B%22maxWidth%22%3A%20%22100%25%22%7D%29%3B%0A%0A%20%20%20%20%20%20%20%20%0A%20%20%20%20%20%20%20%20%20%20%20%20var%20html_3b6c6c3218e2439e86de21094fce28df%20%3D%20%24%28%60%3Cdiv%20id%3D%22html_3b6c6c3218e2439e86de21094fce28df%22%20style%3D%22width%3A%20100.0%25%3B%20height%3A%20100.0%25%3B%22%3Egarden3%3C/div%3E%60%29%5B0%5D%3B%0A%20%20%20%20%20%20%20%20%20%20%20%20popup_0ff43f184ee64d4e92bcdf3b6a080d58.setContent%28html_3b6c6c3218e2439e86de21094fce28df%29%3B%0A%20%20%20%20%20%20%20%20%0A%0A%20%20%20%20%20%20%20%20marker_5ce20756404b4ed4aec015b1251d51ad.bindPopup%28popup_0ff43f184ee64d4e92bcdf3b6a080d58%29%0A%20%20%20%20%20%20%20%20%3B%0A%0A%20%20%20%20%20%20%20%20%0A%20%20%20%20%0A%20%20%20%20%0A%20%20%20%20%20%20%20%20%20%20%20%20var%20marker_35e1805384094990862c2d46282a6b9a%20%3D%20L.marker%28%0A%20%20%20%20%20%20%20%20%20%20%20%20%20%20%20%20%5B2.961193065%2C%2032.24053653%5D%2C%0A%20%20%20%20%20%20%20%20%20%20%20%20%20%20%20%20%7B%7D%0A%20%20%20%20%20%20%20%20%20%20%20%20%29.addTo%28map_9897b96940584863b6b14355defc09c6%29%3B%0A%20%20%20%20%20%20%20%20%0A%20%20%20%20%0A%20%20%20%20%20%20%20%20var%20popup_cae735c4e53340b297b550b53f3168ea%20%3D%20L.popup%28%7B%22maxWidth%22%3A%20%22100%25%22%7D%29%3B%0A%0A%20%20%20%20%20%20%20%20%0A%20%20%20%20%20%20%20%20%20%20%20%20var%20html_d0cecca5ac20442497f20e3eebf94e3d%20%3D%20%24%28%60%3Cdiv%20id%3D%22html_d0cecca5ac20442497f20e3eebf94e3d%22%20style%3D%22width%3A%20100.0%25%3B%20height%3A%20100.0%25%3B%22%3Egarden4%3C/div%3E%60%29%5B0%5D%3B%0A%20%20%20%20%20%20%20%20%20%20%20%20popup_cae735c4e53340b297b550b53f3168ea.setContent%28html_d0cecca5ac20442497f20e3eebf94e3d%29%3B%0A%20%20%20%20%20%20%20%20%0A%0A%20%20%20%20%20%20%20%20marker_35e1805384094990862c2d46282a6b9a.bindPopup%28popup_cae735c4e53340b297b550b53f3168ea%29%0A%20%20%20%20%20%20%20%20%3B%0A%0A%20%20%20%20%20%20%20%20%0A%20%20%20%20%0A%20%20%20%20%0A%20%20%20%20%20%20%20%20%20%20%20%20var%20marker_ef27d8271989419a81a1d2fbb7014484%20%3D%20L.marker%28%0A%20%20%20%20%20%20%20%20%20%20%20%20%20%20%20%20%5B2.961101358%2C%2032.24038613%5D%2C%0A%20%20%20%20%20%20%20%20%20%20%20%20%20%20%20%20%7B%7D%0A%20%20%20%20%20%20%20%20%20%20%20%20%29.addTo%28map_9897b96940584863b6b14355defc09c6%29%3B%0A%20%20%20%20%20%20%20%20%0A%20%20%20%20%0A%20%20%20%20%20%20%20%20var%20popup_ea87a5ae94a6435d86dbc79d6ab78be8%20%3D%20L.popup%28%7B%22maxWidth%22%3A%20%22100%25%22%7D%29%3B%0A%0A%20%20%20%20%20%20%20%20%0A%20%20%20%20%20%20%20%20%20%20%20%20var%20html_aac52be696414ed7b54c5d7a11969c71%20%3D%20%24%28%60%3Cdiv%20id%3D%22html_aac52be696414ed7b54c5d7a11969c71%22%20style%3D%22width%3A%20100.0%25%3B%20height%3A%20100.0%25%3B%22%3Egarden5%3C/div%3E%60%29%5B0%5D%3B%0A%20%20%20%20%20%20%20%20%20%20%20%20popup_ea87a5ae94a6435d86dbc79d6ab78be8.setContent%28html_aac52be696414ed7b54c5d7a11969c71%29%3B%0A%20%20%20%20%20%20%20%20%0A%0A%20%20%20%20%20%20%20%20marker_ef27d8271989419a81a1d2fbb7014484.bindPopup%28popup_ea87a5ae94a6435d86dbc79d6ab78be8%29%0A%20%20%20%20%20%20%20%20%3B%0A%0A%20%20%20%20%20%20%20%20%0A%20%20%20%20%0A%3C/script%3E onload=\"this.contentDocument.open();this.contentDocument.write(    decodeURIComponent(this.getAttribute('data-html')));this.contentDocument.close();\" allowfullscreen webkitallowfullscreen mozallowfullscreen></iframe></div></div>"
      ],
      "text/plain": [
       "<folium.folium.Map at 0x1a5b0e3df70>"
      ]
     },
     "execution_count": 23,
     "metadata": {},
     "output_type": "execute_result"
    }
   ],
   "source": [
    "garden_map = folium.Map(location=[base_lat, base_lon], zoom_start=7)\n",
    "\n",
    "for garden_id, loc_df in gardens_dict.items():\n",
    "    \n",
    "    latitude = float(loc_df['lat1'])\n",
    "    longitude = float(loc_df['lon1'])\n",
    "    label = garden_id + ''\n",
    "    \n",
    "    folium.Marker(location=(latitude,longitude),popup=label).add_to(garden_map)\n",
    " \n",
    "\n",
    "# Display\n",
    "garden_map"
   ]
  },
  {
   "cell_type": "code",
   "execution_count": null,
   "metadata": {},
   "outputs": [],
   "source": []
  },
  {
   "cell_type": "code",
   "execution_count": 24,
   "metadata": {
    "execution": {
     "iopub.execute_input": "2022-02-08T10:30:41.132956Z",
     "iopub.status.busy": "2022-02-08T10:30:41.132281Z",
     "iopub.status.idle": "2022-02-08T10:30:41.166126Z",
     "shell.execute_reply": "2022-02-08T10:30:41.165512Z",
     "shell.execute_reply.started": "2022-02-08T10:30:41.132918Z"
    }
   },
   "outputs": [
    {
     "name": "stdout",
     "output_type": "stream",
     "text": [
      "garden1: [(2.98595307, 32.53170496), (2.980763216, 32.531326899999996), (2.980530115, 32.53124042), (2.980515048, 32.53165663), (2.98595307, 32.53170496)]\n",
      "garden2: [(2.965177167, 32.25001674), (2.9651219269999998, 32.25027776), (2.9660027189999996, 32.25041817), (2.965982687, 32.24986992), (2.965177167, 32.25001674)]\n",
      "garden3: [(2.961092313, 32.24040081), (2.961096313, 32.24040081), (2.961162303, 32.24031172), (2.9609566380000003, 32.24053492), (2.961092313, 32.24040081)]\n",
      "garden4: [(2.961193065, 32.24053653), (2.960931713, 32.24049046), (2.960931713, 32.24049046), (2.961052613, 32.24043991), (2.961193065, 32.24053653)]\n",
      "garden5: [(2.961101358, 32.24038613), (2.961127715, 32.24055117), (2.961034961, 32.24057251), (2.9609978139999997, 32.24046197), (2.961101358, 32.24038613)]\n"
     ]
    },
    {
     "data": {
      "text/html": [
       "<div style=\"width:100%;\"><div style=\"position:relative;width:100%;height:0;padding-bottom:60%;\"><span style=\"color:#565656\">Make this Notebook Trusted to load map: File -> Trust Notebook</span><iframe src=\"about:blank\" style=\"position:absolute;width:100%;height:100%;left:0;top:0;border:none !important;\" data-html=%3C%21DOCTYPE%20html%3E%0A%3Chead%3E%20%20%20%20%0A%20%20%20%20%3Cmeta%20http-equiv%3D%22content-type%22%20content%3D%22text/html%3B%20charset%3DUTF-8%22%20/%3E%0A%20%20%20%20%0A%20%20%20%20%20%20%20%20%3Cscript%3E%0A%20%20%20%20%20%20%20%20%20%20%20%20L_NO_TOUCH%20%3D%20false%3B%0A%20%20%20%20%20%20%20%20%20%20%20%20L_DISABLE_3D%20%3D%20false%3B%0A%20%20%20%20%20%20%20%20%3C/script%3E%0A%20%20%20%20%0A%20%20%20%20%3Cstyle%3Ehtml%2C%20body%20%7Bwidth%3A%20100%25%3Bheight%3A%20100%25%3Bmargin%3A%200%3Bpadding%3A%200%3B%7D%3C/style%3E%0A%20%20%20%20%3Cstyle%3E%23map%20%7Bposition%3Aabsolute%3Btop%3A0%3Bbottom%3A0%3Bright%3A0%3Bleft%3A0%3B%7D%3C/style%3E%0A%20%20%20%20%3Cscript%20src%3D%22https%3A//cdn.jsdelivr.net/npm/leaflet%401.6.0/dist/leaflet.js%22%3E%3C/script%3E%0A%20%20%20%20%3Cscript%20src%3D%22https%3A//code.jquery.com/jquery-1.12.4.min.js%22%3E%3C/script%3E%0A%20%20%20%20%3Cscript%20src%3D%22https%3A//maxcdn.bootstrapcdn.com/bootstrap/3.2.0/js/bootstrap.min.js%22%3E%3C/script%3E%0A%20%20%20%20%3Cscript%20src%3D%22https%3A//cdnjs.cloudflare.com/ajax/libs/Leaflet.awesome-markers/2.0.2/leaflet.awesome-markers.js%22%3E%3C/script%3E%0A%20%20%20%20%3Clink%20rel%3D%22stylesheet%22%20href%3D%22https%3A//cdn.jsdelivr.net/npm/leaflet%401.6.0/dist/leaflet.css%22/%3E%0A%20%20%20%20%3Clink%20rel%3D%22stylesheet%22%20href%3D%22https%3A//maxcdn.bootstrapcdn.com/bootstrap/3.2.0/css/bootstrap.min.css%22/%3E%0A%20%20%20%20%3Clink%20rel%3D%22stylesheet%22%20href%3D%22https%3A//maxcdn.bootstrapcdn.com/bootstrap/3.2.0/css/bootstrap-theme.min.css%22/%3E%0A%20%20%20%20%3Clink%20rel%3D%22stylesheet%22%20href%3D%22https%3A//maxcdn.bootstrapcdn.com/font-awesome/4.6.3/css/font-awesome.min.css%22/%3E%0A%20%20%20%20%3Clink%20rel%3D%22stylesheet%22%20href%3D%22https%3A//cdnjs.cloudflare.com/ajax/libs/Leaflet.awesome-markers/2.0.2/leaflet.awesome-markers.css%22/%3E%0A%20%20%20%20%3Clink%20rel%3D%22stylesheet%22%20href%3D%22https%3A//cdn.jsdelivr.net/gh/python-visualization/folium/folium/templates/leaflet.awesome.rotate.min.css%22/%3E%0A%20%20%20%20%0A%20%20%20%20%20%20%20%20%20%20%20%20%3Cmeta%20name%3D%22viewport%22%20content%3D%22width%3Ddevice-width%2C%0A%20%20%20%20%20%20%20%20%20%20%20%20%20%20%20%20initial-scale%3D1.0%2C%20maximum-scale%3D1.0%2C%20user-scalable%3Dno%22%20/%3E%0A%20%20%20%20%20%20%20%20%20%20%20%20%3Cstyle%3E%0A%20%20%20%20%20%20%20%20%20%20%20%20%20%20%20%20%23map_ae9062fe256d4f5dbd129060c534c112%20%7B%0A%20%20%20%20%20%20%20%20%20%20%20%20%20%20%20%20%20%20%20%20position%3A%20relative%3B%0A%20%20%20%20%20%20%20%20%20%20%20%20%20%20%20%20%20%20%20%20width%3A%20100.0%25%3B%0A%20%20%20%20%20%20%20%20%20%20%20%20%20%20%20%20%20%20%20%20height%3A%20100.0%25%3B%0A%20%20%20%20%20%20%20%20%20%20%20%20%20%20%20%20%20%20%20%20left%3A%200.0%25%3B%0A%20%20%20%20%20%20%20%20%20%20%20%20%20%20%20%20%20%20%20%20top%3A%200.0%25%3B%0A%20%20%20%20%20%20%20%20%20%20%20%20%20%20%20%20%7D%0A%20%20%20%20%20%20%20%20%20%20%20%20%3C/style%3E%0A%20%20%20%20%20%20%20%20%0A%3C/head%3E%0A%3Cbody%3E%20%20%20%20%0A%20%20%20%20%0A%20%20%20%20%20%20%20%20%20%20%20%20%3Cdiv%20class%3D%22folium-map%22%20id%3D%22map_ae9062fe256d4f5dbd129060c534c112%22%20%3E%3C/div%3E%0A%20%20%20%20%20%20%20%20%0A%3C/body%3E%0A%3Cscript%3E%20%20%20%20%0A%20%20%20%20%0A%20%20%20%20%20%20%20%20%20%20%20%20var%20map_ae9062fe256d4f5dbd129060c534c112%20%3D%20L.map%28%0A%20%20%20%20%20%20%20%20%20%20%20%20%20%20%20%20%22map_ae9062fe256d4f5dbd129060c534c112%22%2C%0A%20%20%20%20%20%20%20%20%20%20%20%20%20%20%20%20%7B%0A%20%20%20%20%20%20%20%20%20%20%20%20%20%20%20%20%20%20%20%20center%3A%20%5B2.7971979997030787%2C%2032.2643949%5D%2C%0A%20%20%20%20%20%20%20%20%20%20%20%20%20%20%20%20%20%20%20%20crs%3A%20L.CRS.EPSG3857%2C%0A%20%20%20%20%20%20%20%20%20%20%20%20%20%20%20%20%20%20%20%20zoom%3A%207%2C%0A%20%20%20%20%20%20%20%20%20%20%20%20%20%20%20%20%20%20%20%20zoomControl%3A%20true%2C%0A%20%20%20%20%20%20%20%20%20%20%20%20%20%20%20%20%20%20%20%20preferCanvas%3A%20false%2C%0A%20%20%20%20%20%20%20%20%20%20%20%20%20%20%20%20%7D%0A%20%20%20%20%20%20%20%20%20%20%20%20%29%3B%0A%0A%20%20%20%20%20%20%20%20%20%20%20%20%0A%0A%20%20%20%20%20%20%20%20%0A%20%20%20%20%0A%20%20%20%20%20%20%20%20%20%20%20%20var%20tile_layer_1d8f9235d4664c6685fc24c2d0c22e06%20%3D%20L.tileLayer%28%0A%20%20%20%20%20%20%20%20%20%20%20%20%20%20%20%20%22https%3A//%7Bs%7D.tile.openstreetmap.org/%7Bz%7D/%7Bx%7D/%7By%7D.png%22%2C%0A%20%20%20%20%20%20%20%20%20%20%20%20%20%20%20%20%7B%22attribution%22%3A%20%22Data%20by%20%5Cu0026copy%3B%20%5Cu003ca%20href%3D%5C%22http%3A//openstreetmap.org%5C%22%5Cu003eOpenStreetMap%5Cu003c/a%5Cu003e%2C%20under%20%5Cu003ca%20href%3D%5C%22http%3A//www.openstreetmap.org/copyright%5C%22%5Cu003eODbL%5Cu003c/a%5Cu003e.%22%2C%20%22detectRetina%22%3A%20false%2C%20%22maxNativeZoom%22%3A%2018%2C%20%22maxZoom%22%3A%2018%2C%20%22minZoom%22%3A%200%2C%20%22noWrap%22%3A%20false%2C%20%22opacity%22%3A%201%2C%20%22subdomains%22%3A%20%22abc%22%2C%20%22tms%22%3A%20false%7D%0A%20%20%20%20%20%20%20%20%20%20%20%20%29.addTo%28map_ae9062fe256d4f5dbd129060c534c112%29%3B%0A%20%20%20%20%20%20%20%20%0A%20%20%20%20%0A%20%20%20%20%20%20%20%20%20%20%20%20var%20poly_line_53da7b37837e4525bf5757b188d61205%20%3D%20L.polyline%28%0A%20%20%20%20%20%20%20%20%20%20%20%20%20%20%20%20%5B%5B2.98595307%2C%2032.53170496%5D%2C%20%5B2.980763216%2C%2032.531326899999996%5D%2C%20%5B2.980530115%2C%2032.53124042%5D%2C%20%5B2.980515048%2C%2032.53165663%5D%2C%20%5B2.98595307%2C%2032.53170496%5D%5D%2C%0A%20%20%20%20%20%20%20%20%20%20%20%20%20%20%20%20%7B%22bubblingMouseEvents%22%3A%20true%2C%20%22color%22%3A%20%22red%22%2C%20%22dashArray%22%3A%20null%2C%20%22dashOffset%22%3A%20null%2C%20%22fill%22%3A%20false%2C%20%22fillColor%22%3A%20%22red%22%2C%20%22fillOpacity%22%3A%200.2%2C%20%22fillRule%22%3A%20%22evenodd%22%2C%20%22lineCap%22%3A%20%22round%22%2C%20%22lineJoin%22%3A%20%22round%22%2C%20%22noClip%22%3A%20false%2C%20%22opacity%22%3A%201%2C%20%22smoothFactor%22%3A%201.0%2C%20%22stroke%22%3A%20true%2C%20%22weight%22%3A%203.0%7D%0A%20%20%20%20%20%20%20%20%20%20%20%20%29.addTo%28map_ae9062fe256d4f5dbd129060c534c112%29%3B%0A%20%20%20%20%20%20%20%20%0A%20%20%20%20%0A%20%20%20%20%20%20%20%20%20%20%20%20var%20poly_line_328c39a4fe3c4f7080c328e7ca6eab81%20%3D%20L.polyline%28%0A%20%20%20%20%20%20%20%20%20%20%20%20%20%20%20%20%5B%5B2.965177167%2C%2032.25001674%5D%2C%20%5B2.9651219269999998%2C%2032.25027776%5D%2C%20%5B2.9660027189999996%2C%2032.25041817%5D%2C%20%5B2.965982687%2C%2032.24986992%5D%2C%20%5B2.965177167%2C%2032.25001674%5D%5D%2C%0A%20%20%20%20%20%20%20%20%20%20%20%20%20%20%20%20%7B%22bubblingMouseEvents%22%3A%20true%2C%20%22color%22%3A%20%22red%22%2C%20%22dashArray%22%3A%20null%2C%20%22dashOffset%22%3A%20null%2C%20%22fill%22%3A%20false%2C%20%22fillColor%22%3A%20%22red%22%2C%20%22fillOpacity%22%3A%200.2%2C%20%22fillRule%22%3A%20%22evenodd%22%2C%20%22lineCap%22%3A%20%22round%22%2C%20%22lineJoin%22%3A%20%22round%22%2C%20%22noClip%22%3A%20false%2C%20%22opacity%22%3A%201%2C%20%22smoothFactor%22%3A%201.0%2C%20%22stroke%22%3A%20true%2C%20%22weight%22%3A%203.0%7D%0A%20%20%20%20%20%20%20%20%20%20%20%20%29.addTo%28map_ae9062fe256d4f5dbd129060c534c112%29%3B%0A%20%20%20%20%20%20%20%20%0A%20%20%20%20%0A%20%20%20%20%20%20%20%20%20%20%20%20var%20poly_line_ebfcdb8c4e424455b8d9a566e71735c1%20%3D%20L.polyline%28%0A%20%20%20%20%20%20%20%20%20%20%20%20%20%20%20%20%5B%5B2.961092313%2C%2032.24040081%5D%2C%20%5B2.961096313%2C%2032.24040081%5D%2C%20%5B2.961162303%2C%2032.24031172%5D%2C%20%5B2.9609566380000003%2C%2032.24053492%5D%2C%20%5B2.961092313%2C%2032.24040081%5D%5D%2C%0A%20%20%20%20%20%20%20%20%20%20%20%20%20%20%20%20%7B%22bubblingMouseEvents%22%3A%20true%2C%20%22color%22%3A%20%22red%22%2C%20%22dashArray%22%3A%20null%2C%20%22dashOffset%22%3A%20null%2C%20%22fill%22%3A%20false%2C%20%22fillColor%22%3A%20%22red%22%2C%20%22fillOpacity%22%3A%200.2%2C%20%22fillRule%22%3A%20%22evenodd%22%2C%20%22lineCap%22%3A%20%22round%22%2C%20%22lineJoin%22%3A%20%22round%22%2C%20%22noClip%22%3A%20false%2C%20%22opacity%22%3A%201%2C%20%22smoothFactor%22%3A%201.0%2C%20%22stroke%22%3A%20true%2C%20%22weight%22%3A%203.0%7D%0A%20%20%20%20%20%20%20%20%20%20%20%20%29.addTo%28map_ae9062fe256d4f5dbd129060c534c112%29%3B%0A%20%20%20%20%20%20%20%20%0A%20%20%20%20%0A%20%20%20%20%20%20%20%20%20%20%20%20var%20poly_line_7cc8da70d89642c88a15acf9d3395f9d%20%3D%20L.polyline%28%0A%20%20%20%20%20%20%20%20%20%20%20%20%20%20%20%20%5B%5B2.961193065%2C%2032.24053653%5D%2C%20%5B2.960931713%2C%2032.24049046%5D%2C%20%5B2.960931713%2C%2032.24049046%5D%2C%20%5B2.961052613%2C%2032.24043991%5D%2C%20%5B2.961193065%2C%2032.24053653%5D%5D%2C%0A%20%20%20%20%20%20%20%20%20%20%20%20%20%20%20%20%7B%22bubblingMouseEvents%22%3A%20true%2C%20%22color%22%3A%20%22red%22%2C%20%22dashArray%22%3A%20null%2C%20%22dashOffset%22%3A%20null%2C%20%22fill%22%3A%20false%2C%20%22fillColor%22%3A%20%22red%22%2C%20%22fillOpacity%22%3A%200.2%2C%20%22fillRule%22%3A%20%22evenodd%22%2C%20%22lineCap%22%3A%20%22round%22%2C%20%22lineJoin%22%3A%20%22round%22%2C%20%22noClip%22%3A%20false%2C%20%22opacity%22%3A%201%2C%20%22smoothFactor%22%3A%201.0%2C%20%22stroke%22%3A%20true%2C%20%22weight%22%3A%203.0%7D%0A%20%20%20%20%20%20%20%20%20%20%20%20%29.addTo%28map_ae9062fe256d4f5dbd129060c534c112%29%3B%0A%20%20%20%20%20%20%20%20%0A%20%20%20%20%0A%20%20%20%20%20%20%20%20%20%20%20%20var%20poly_line_3ba1839fad6349c286e6bf5cc687cb98%20%3D%20L.polyline%28%0A%20%20%20%20%20%20%20%20%20%20%20%20%20%20%20%20%5B%5B2.961101358%2C%2032.24038613%5D%2C%20%5B2.961127715%2C%2032.24055117%5D%2C%20%5B2.961034961%2C%2032.24057251%5D%2C%20%5B2.9609978139999997%2C%2032.24046197%5D%2C%20%5B2.961101358%2C%2032.24038613%5D%5D%2C%0A%20%20%20%20%20%20%20%20%20%20%20%20%20%20%20%20%7B%22bubblingMouseEvents%22%3A%20true%2C%20%22color%22%3A%20%22red%22%2C%20%22dashArray%22%3A%20null%2C%20%22dashOffset%22%3A%20null%2C%20%22fill%22%3A%20false%2C%20%22fillColor%22%3A%20%22red%22%2C%20%22fillOpacity%22%3A%200.2%2C%20%22fillRule%22%3A%20%22evenodd%22%2C%20%22lineCap%22%3A%20%22round%22%2C%20%22lineJoin%22%3A%20%22round%22%2C%20%22noClip%22%3A%20false%2C%20%22opacity%22%3A%201%2C%20%22smoothFactor%22%3A%201.0%2C%20%22stroke%22%3A%20true%2C%20%22weight%22%3A%203.0%7D%0A%20%20%20%20%20%20%20%20%20%20%20%20%29.addTo%28map_ae9062fe256d4f5dbd129060c534c112%29%3B%0A%20%20%20%20%20%20%20%20%0A%3C/script%3E onload=\"this.contentDocument.open();this.contentDocument.write(    decodeURIComponent(this.getAttribute('data-html')));this.contentDocument.close();\" allowfullscreen webkitallowfullscreen mozallowfullscreen></iframe></div></div>"
      ],
      "text/plain": [
       "<folium.folium.Map at 0x1a5b0de1c10>"
      ]
     },
     "execution_count": 24,
     "metadata": {},
     "output_type": "execute_result"
    }
   ],
   "source": [
    "\n",
    "garden_map = folium.Map(location=[base_lat, base_lon], zoom_start=7)\n",
    "\n",
    "for garden_id, loc_df in gardens_dict.items():\n",
    "    \n",
    "    lats = [float(loc_df['lat{}'.format(i)]) for i in range(1,num_gardens)]\n",
    "    lons = [float(loc_df['lon{}'.format(i)]) for i in range(1,num_gardens)]\n",
    "    \n",
    "    lats.append(lats[0])\n",
    "    lons.append(lons[0])\n",
    "    \n",
    "    garden_vertices = [(x,y) for x,y in zip(lats,lons)]\n",
    "    \n",
    "    label = garden_id + ''\n",
    "    \n",
    "    print('{}: {}'.format(garden_id,garden_vertices))\n",
    "   \n",
    "    folium.PolyLine(garden_vertices, color=\"red\", weight=3.0, opacity=1).add_to(garden_map)\n",
    " \n",
    "# Display\n",
    "garden_map"
   ]
  }
 ],
 "metadata": {
  "kernelspec": {
   "display_name": "Python 3",
   "language": "python",
   "name": "python3"
  },
  "language_info": {
   "codemirror_mode": {
    "name": "ipython",
    "version": 3
   },
   "file_extension": ".py",
   "mimetype": "text/x-python",
   "name": "python",
   "nbconvert_exporter": "python",
   "pygments_lexer": "ipython3",
   "version": "3.8.5"
  }
 },
 "nbformat": 4,
 "nbformat_minor": 4
}
